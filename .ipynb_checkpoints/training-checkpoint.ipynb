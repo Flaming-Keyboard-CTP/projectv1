{
 "cells": [
  {
   "cell_type": "code",
   "execution_count": null,
   "metadata": {
    "colab": {
     "base_uri": "https://localhost:8080/"
    },
    "id": "DZOQX4s3LIbY",
    "outputId": "e5d432b6-d94d-4817-9a01-a7748e6544c0"
   },
   "outputs": [
    {
     "name": "stdout",
     "output_type": "stream",
     "text": [
      "Epoch 1/10\n",
      "395/395 [==============================] - 5s 11ms/step - loss: 1.2616 - acc: 0.4869 - val_loss: 1.0608 - val_acc: 0.5662\n",
      "Epoch 2/10\n",
      "395/395 [==============================] - 4s 11ms/step - loss: 0.9345 - acc: 0.6434 - val_loss: 0.8579 - val_acc: 0.6766\n",
      "Epoch 3/10\n",
      "395/395 [==============================] - 4s 11ms/step - loss: 0.7843 - acc: 0.7048 - val_loss: 0.7895 - val_acc: 0.6994\n",
      "Epoch 4/10\n",
      "395/395 [==============================] - 4s 11ms/step - loss: 0.6914 - acc: 0.7412 - val_loss: 0.7076 - val_acc: 0.7486\n",
      "Epoch 5/10\n",
      "395/395 [==============================] - 4s 11ms/step - loss: 0.6209 - acc: 0.7727 - val_loss: 0.7281 - val_acc: 0.7407\n",
      "Epoch 6/10\n",
      "395/395 [==============================] - 4s 11ms/step - loss: 0.5630 - acc: 0.7888 - val_loss: 0.7115 - val_acc: 0.7472\n",
      "Epoch 7/10\n",
      "395/395 [==============================] - 4s 11ms/step - loss: 0.4937 - acc: 0.8142 - val_loss: 0.7322 - val_acc: 0.7457\n",
      "Epoch 8/10\n",
      "395/395 [==============================] - 4s 11ms/step - loss: 0.4283 - acc: 0.8450 - val_loss: 0.6946 - val_acc: 0.7614\n",
      "Epoch 9/10\n",
      "395/395 [==============================] - 4s 11ms/step - loss: 0.3639 - acc: 0.8642 - val_loss: 0.7120 - val_acc: 0.7607\n",
      "Epoch 10/10\n",
      "395/395 [==============================] - 4s 11ms/step - loss: 0.3076 - acc: 0.8857 - val_loss: 0.8233 - val_acc: 0.7621\n"
     ]
    },
    {
     "data": {
      "text/plain": [
       "<tensorflow.python.keras.callbacks.History at 0x7f04af3d5550>"
      ]
     },
     "execution_count": 20,
     "metadata": {
      "tags": []
     },
     "output_type": "execute_result"
    }
   ],
   "source": [
    "import tensorflow as tf\n",
    "from tensorflow.keras.models import Sequential \n",
    "from tensorflow.keras.layers import Dense, Dropout, Activation, Flatten, Conv2D, MaxPooling2D\n",
    "import pickle\n",
    "\n",
    "\n",
    "X = pickle.load(open(\"X.pickle\", \"rb\"))\n",
    "y = pickle.load(open(\"y.pickle\", \"rb\"))\n",
    "\n",
    "X = X/225.0\n",
    "\n",
    "model = Sequential()\n",
    "model.add(Conv2D(256, kernel_size = (3,3), input_shape = X.shape[1:]))\n",
    "model.add(Activation(\"relu\"))\n",
    "model.add(MaxPooling2D(pool_size = (2,2)))\n",
    "\n",
    "model.add(Conv2D(256, kernel_size = (3,3)))\n",
    "model.add(Activation(\"relu\"))\n",
    "model.add(MaxPooling2D(pool_size = (2,2)))\n",
    "\n",
    "model.add(Conv2D(256,  kernel_size = (3,3)))\n",
    "model.add(Activation(\"relu\"))\n",
    "model.add(MaxPooling2D(pool_size = (2,2)))\n",
    "\n",
    "model.add(Conv2D(256, kernel_size = (3,3)))\n",
    "model.add(Activation(\"relu\"))\n",
    "model.add(MaxPooling2D(pool_size = (2,2)))\n",
    "\n",
    "model.add(Flatten())\n",
    "model.add(Dense(128, activation=\"relu\"))\n",
    "\n",
    "model.add(Dense(10))\n",
    "model.add(Activation('softmax'))\n",
    "\n",
    "model.compile(loss = \"sparse_categorical_crossentropy\",\n",
    "              optimizer = \"adam\",\n",
    "              metrics = [\"acc\"])\n",
    "\n",
    "model.fit(X, y, epochs = 10, validation_split = 0.1)"
   ]
  },
  {
   "cell_type": "code",
   "execution_count": null,
   "metadata": {
    "colab": {
     "base_uri": "https://localhost:8080/"
    },
    "id": "3I5qkGx9LJrU",
    "outputId": "26828ac5-f39a-43b9-82a9-bc05c8276eb2"
   },
   "outputs": [
    {
     "data": {
      "text/plain": [
       "(14034, 50, 50, 1)"
      ]
     },
     "execution_count": 11,
     "metadata": {
      "tags": []
     },
     "output_type": "execute_result"
    }
   ],
   "source": [
    "X.shape"
   ]
  },
  {
   "cell_type": "code",
   "execution_count": null,
   "metadata": {
    "colab": {
     "base_uri": "https://localhost:8080/"
    },
    "id": "opjwTHOIMRD8",
    "outputId": "e06f9b94-a821-49f0-80c6-8c367155ee7a"
   },
   "outputs": [
    {
     "name": "stdout",
     "output_type": "stream",
     "text": [
      "439/439 [==============================] - 2s 5ms/step - loss: 0.2682 - acc: 0.9089\n"
     ]
    },
    {
     "data": {
      "text/plain": [
       "[0.268226683139801, 0.9088642001152039]"
      ]
     },
     "execution_count": 21,
     "metadata": {
      "tags": []
     },
     "output_type": "execute_result"
    }
   ],
   "source": [
    "model.evaluate(X, y)"
   ]
  },
  {
   "cell_type": "code",
   "execution_count": null,
   "metadata": {
    "colab": {
     "base_uri": "https://localhost:8080/"
    },
    "id": "DM5PnTvhWIjr",
    "outputId": "8a40b71c-fb7d-4907-c3ad-700ddbf4ef95"
   },
   "outputs": [
    {
     "name": "stdout",
     "output_type": "stream",
     "text": [
      "(14034, 10)\n"
     ]
    }
   ],
   "source": [
    "predictions = model.predict([X])"
   ]
  },
  {
   "cell_type": "code",
   "execution_count": null,
   "metadata": {
    "colab": {
     "base_uri": "https://localhost:8080/"
    },
    "id": "XLNoU2y8uFHn",
    "outputId": "6e3a9a17-393c-487b-b9bd-3bc106a3d55a"
   },
   "outputs": [
    {
     "name": "stdout",
     "output_type": "stream",
     "text": [
      "glacier\n",
      "buildings\n",
      "sea\n",
      "mountain\n",
      "street\n",
      "street\n",
      "forest\n",
      "mountain\n",
      "mountain\n",
      "sea\n",
      "buildings\n",
      "glacier\n",
      "forest\n",
      "buildings\n",
      "forest\n"
     ]
    }
   ],
   "source": [
    "import numpy as np\n",
    "\n",
    "hm = {}\n",
    "hm[0] = \"buildings\"\n",
    "hm[1] = \"forest\"\n",
    "hm[2] = \"glacier\"\n",
    "hm[3] = \"mountain\"\n",
    "hm[4] = \"sea\"\n",
    "hm[5] = \"street\"\n",
    "for i in range(15):\n",
    "  pred = (np.argmax(predictions[i]))\n",
    "  print(hm[pred])"
   ]
  },
  {
   "cell_type": "code",
   "execution_count": null,
   "metadata": {
    "colab": {
     "base_uri": "https://localhost:8080/"
    },
    "id": "HPipQcpQuJce",
    "outputId": "ba0c13c3-9614-4f7e-86ee-e1ed228b953a"
   },
   "outputs": [
    {
     "name": "stdout",
     "output_type": "stream",
     "text": [
      "glacier\n",
      "buildings\n",
      "sea\n",
      "mountain\n",
      "street\n",
      "street\n",
      "forest\n",
      "mountain\n",
      "sea\n",
      "sea\n",
      "buildings\n",
      "glacier\n",
      "forest\n",
      "buildings\n",
      "forest\n"
     ]
    }
   ],
   "source": [
    "import matplotlib.pyplot as plt\n",
    "for i in range(15):\n",
    "  real = (y[i])\n",
    "  print(hm[real])"
   ]
  },
  {
   "cell_type": "code",
   "execution_count": null,
   "metadata": {
    "id": "A6ZxoQZ_xZQA"
   },
   "outputs": [],
   "source": [
    "from mlxtend.plotting import plot_confusion_matrix\n",
    "from sklearn.metrics import confusion_matrix\n",
    "import seaborn as sns\n",
    "sns.set()\n",
    "import matplotlib.pyplot as plt\n",
    "%matplotlib inline"
   ]
  },
  {
   "cell_type": "code",
   "execution_count": null,
   "metadata": {
    "colab": {
     "base_uri": "https://localhost:8080/",
     "height": 268
    },
    "id": "jsCPrVsLyA1N",
    "outputId": "c758606e-e6c8-4c61-f889-8d7df560648a"
   },
   "outputs": [
    {
     "data": {
      "image/png": "[encoded data removed]",
      "text/plain": [
       "<Figure size 432x288 with 2 Axes>"
      ]
     },
     "metadata": {
      "needs_background": "light",
      "tags": []
     },
     "output_type": "display_data"
    }
   ],
   "source": [
    "rounded_predictions = model.predict_classes(X, batch_size=128, verbose=0)\n",
    "cm = confusion_matrix(y, rounded_predictions)\n",
    "ax = sns.heatmap(cm, annot=True, cmap=\"Blues\")"
   ]
  },
  {
   "cell_type": "code",
   "execution_count": null,
   "metadata": {
    "id": "0PTqmnw07z23"
   },
   "outputs": [],
   "source": []
  }
 ],
 "metadata": {
  "accelerator": "GPU",
  "colab": {
   "collapsed_sections": [],
   "name": "training.ipynb",
   "provenance": []
  },
  "kernelspec": {
   "display_name": "Python 3",
   "language": "python",
   "name": "python3"
  },
  "language_info": {
   "codemirror_mode": {
    "name": "ipython",
    "version": 3
   },
   "file_extension": ".py",
   "mimetype": "text/x-python",
   "name": "python",
   "nbconvert_exporter": "python",
   "pygments_lexer": "ipython3",
   "version": "3.8.3"
  }
 },
 "nbformat": 4,
 "nbformat_minor": 1
}
