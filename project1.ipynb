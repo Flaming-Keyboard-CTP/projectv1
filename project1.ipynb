{
 "metadata": {
  "language_info": {
   "codemirror_mode": {
    "name": "ipython",
    "version": 3
   },
   "file_extension": ".py",
   "mimetype": "text/x-python",
   "name": "python",
   "nbconvert_exporter": "python",
   "pygments_lexer": "ipython3",
   "version": "3.8.5-final"
  },
  "orig_nbformat": 2,
  "kernelspec": {
   "name": "python3",
   "display_name": "Python 3"
  }
 },
 "nbformat": 4,
 "nbformat_minor": 2,
 "cells": [
  {
   "cell_type": "code",
   "execution_count": 3,
   "metadata": {},
   "outputs": [],
   "source": [
    "import numpy as np\n",
    "import matplotlib.pyplot as plt\n",
    "import os\n",
    "import cv2\n",
    "import pickle\n",
    "\n",
    "# D:\\Chrome Downloads\\kaggleDatasetForProject\\seg_train\\seg_train\\buildings\n",
    "DATADIR = \"D:\\Chrome Downloads\\kaggleDatasetForProject\\seg_train\\seg_train\"\n",
    "CATEGORIES = [\"buildings\", \"forest\", \"glacier\",\"mountain\", \"sea\", \"street\"]"
   ]
  },
  {
   "cell_type": "code",
   "execution_count": 31,
   "metadata": {},
   "outputs": [
    {
     "output_type": "display_data",
     "data": {
      "text/plain": "<Figure size 432x288 with 1 Axes>",
      "image/svg+xml": "<?xml version=\"1.0\" encoding=\"utf-8\" standalone=\"no\"?>\r\n<!DOCTYPE svg PUBLIC \"-//W3C//DTD SVG 1.1//EN\"\r\n  \"http://www.w3.org/Graphics/SVG/1.1/DTD/svg11.dtd\">\r\n<!-- Created with matplotlib (https://matplotlib.org/) -->\r\n<svg height=\"250.142944pt\" version=\"1.1\" viewBox=\"0 0 251.565 250.142944\" width=\"251.565pt\" xmlns=\"http://www.w3.org/2000/svg\" xmlns:xlink=\"http://www.w3.org/1999/xlink\">\r\n <metadata>\r\n  <rdf:RDF xmlns:cc=\"http://creativecommons.org/ns#\" xmlns:dc=\"http://purl.org/dc/elements/1.1/\" xmlns:rdf=\"http://www.w3.org/1999/02/22-rdf-syntax-ns#\">\r\n   <cc:Work>\r\n    <dc:type rdf:resource=\"http://purl.org/dc/dcmitype/StillImage\"/>\r\n    <dc:date>2020-11-13T04:47:00.994554</dc:date>\r\n    <dc:format>image/svg+xml</dc:format>\r\n    <dc:creator>\r\n     <cc:Agent>\r\n      <dc:title>Matplotlib v3.3.2, https://matplotlib.org/</dc:title>\r\n     </cc:Agent>\r\n    </dc:creator>\r\n   </cc:Work>\r\n  </rdf:RDF>\r\n </metadata>\r\n <defs>\r\n  <style type=\"text/css\">*{stroke-linecap:butt;stroke-linejoin:round;}</style>\r\n </defs>\r\n <g id=\"figure_1\">\r\n  <g id=\"patch_1\">\r\n   <path d=\"M 0 250.142944 \r\nL 251.565 250.142944 \r\nL 251.565 0 \r\nL 0 0 \r\nz\r\n\" style=\"fill:none;\"/>\r\n  </g>\r\n  <g id=\"axes_1\">\r\n   <g id=\"patch_2\">\r\n    <path d=\"M 26.925 226.264819 \r\nL 244.365 226.264819 \r\nL 244.365 8.824819 \r\nL 26.925 8.824819 \r\nz\r\n\" style=\"fill:#ffffff;\"/>\r\n   </g>\r\n   <g clip-path=\"url(#pcaf7bf074b)\">\r\n    <image height=\"218\" id=\"image2d90f5e4c9\" transform=\"scale(1 -1)translate(0 -218)\" width=\"218\" x=\"26.925\" xlink:href=\"data:image/png;base64,\r\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\" y=\"-8.264819\"/>\r\n   </g>\r\n   <g id=\"matplotlib.axis_1\">\r\n    <g id=\"xtick_1\">\r\n     <g id=\"line2d_1\">\r\n      <defs>\r\n       <path d=\"M 0 0 \r\nL 0 3.5 \r\n\" id=\"mec1d702c7b\" style=\"stroke:#000000;stroke-width:0.8;\"/>\r\n      </defs>\r\n      <g>\r\n       <use style=\"stroke:#000000;stroke-width:0.8;\" x=\"29.0994\" xlink:href=\"#mec1d702c7b\" y=\"226.264819\"/>\r\n      </g>\r\n     </g>\r\n     <g id=\"text_1\">\r\n      <!-- 0 -->\r\n      <g transform=\"translate(25.91815 240.863256)scale(0.1 -0.1)\">\r\n       <defs>\r\n        <path d=\"M 31.78125 66.40625 \r\nQ 24.171875 66.40625 20.328125 58.90625 \r\nQ 16.5 51.421875 16.5 36.375 \r\nQ 16.5 21.390625 20.328125 13.890625 \r\nQ 24.171875 6.390625 31.78125 6.390625 \r\nQ 39.453125 6.390625 43.28125 13.890625 \r\nQ 47.125 21.390625 47.125 36.375 \r\nQ 47.125 51.421875 43.28125 58.90625 \r\nQ 39.453125 66.40625 31.78125 66.40625 \r\nz\r\nM 31.78125 74.21875 \r\nQ 44.046875 74.21875 50.515625 64.515625 \r\nQ 56.984375 54.828125 56.984375 36.375 \r\nQ 56.984375 17.96875 50.515625 8.265625 \r\nQ 44.046875 -1.421875 31.78125 -1.421875 \r\nQ 19.53125 -1.421875 13.0625 8.265625 \r\nQ 6.59375 17.96875 6.59375 36.375 \r\nQ 6.59375 54.828125 13.0625 64.515625 \r\nQ 19.53125 74.21875 31.78125 74.21875 \r\nz\r\n\" id=\"DejaVuSans-48\"/>\r\n       </defs>\r\n       <use xlink:href=\"#DejaVuSans-48\"/>\r\n      </g>\r\n     </g>\r\n    </g>\r\n    <g id=\"xtick_2\">\r\n     <g id=\"line2d_2\">\r\n      <g>\r\n       <use style=\"stroke:#000000;stroke-width:0.8;\" x=\"72.5874\" xlink:href=\"#mec1d702c7b\" y=\"226.264819\"/>\r\n      </g>\r\n     </g>\r\n     <g id=\"text_2\">\r\n      <!-- 10 -->\r\n      <g transform=\"translate(66.2249 240.863256)scale(0.1 -0.1)\">\r\n       <defs>\r\n        <path d=\"M 12.40625 8.296875 \r\nL 28.515625 8.296875 \r\nL 28.515625 63.921875 \r\nL 10.984375 60.40625 \r\nL 10.984375 69.390625 \r\nL 28.421875 72.90625 \r\nL 38.28125 72.90625 \r\nL 38.28125 8.296875 \r\nL 54.390625 8.296875 \r\nL 54.390625 0 \r\nL 12.40625 0 \r\nz\r\n\" id=\"DejaVuSans-49\"/>\r\n       </defs>\r\n       <use xlink:href=\"#DejaVuSans-49\"/>\r\n       <use x=\"63.623047\" xlink:href=\"#DejaVuSans-48\"/>\r\n      </g>\r\n     </g>\r\n    </g>\r\n    <g id=\"xtick_3\">\r\n     <g id=\"line2d_3\">\r\n      <g>\r\n       <use style=\"stroke:#000000;stroke-width:0.8;\" x=\"116.0754\" xlink:href=\"#mec1d702c7b\" y=\"226.264819\"/>\r\n      </g>\r\n     </g>\r\n     <g id=\"text_3\">\r\n      <!-- 20 -->\r\n      <g transform=\"translate(109.7129 240.863256)scale(0.1 -0.1)\">\r\n       <defs>\r\n        <path d=\"M 19.1875 8.296875 \r\nL 53.609375 8.296875 \r\nL 53.609375 0 \r\nL 7.328125 0 \r\nL 7.328125 8.296875 \r\nQ 12.9375 14.109375 22.625 23.890625 \r\nQ 32.328125 33.6875 34.8125 36.53125 \r\nQ 39.546875 41.84375 41.421875 45.53125 \r\nQ 43.3125 49.21875 43.3125 52.78125 \r\nQ 43.3125 58.59375 39.234375 62.25 \r\nQ 35.15625 65.921875 28.609375 65.921875 \r\nQ 23.96875 65.921875 18.8125 64.3125 \r\nQ 13.671875 62.703125 7.8125 59.421875 \r\nL 7.8125 69.390625 \r\nQ 13.765625 71.78125 18.9375 73 \r\nQ 24.125 74.21875 28.421875 74.21875 \r\nQ 39.75 74.21875 46.484375 68.546875 \r\nQ 53.21875 62.890625 53.21875 53.421875 \r\nQ 53.21875 48.921875 51.53125 44.890625 \r\nQ 49.859375 40.875 45.40625 35.40625 \r\nQ 44.1875 33.984375 37.640625 27.21875 \r\nQ 31.109375 20.453125 19.1875 8.296875 \r\nz\r\n\" id=\"DejaVuSans-50\"/>\r\n       </defs>\r\n       <use xlink:href=\"#DejaVuSans-50\"/>\r\n       <use x=\"63.623047\" xlink:href=\"#DejaVuSans-48\"/>\r\n      </g>\r\n     </g>\r\n    </g>\r\n    <g id=\"xtick_4\">\r\n     <g id=\"line2d_4\">\r\n      <g>\r\n       <use style=\"stroke:#000000;stroke-width:0.8;\" x=\"159.5634\" xlink:href=\"#mec1d702c7b\" y=\"226.264819\"/>\r\n      </g>\r\n     </g>\r\n     <g id=\"text_4\">\r\n      <!-- 30 -->\r\n      <g transform=\"translate(153.2009 240.863256)scale(0.1 -0.1)\">\r\n       <defs>\r\n        <path d=\"M 40.578125 39.3125 \r\nQ 47.65625 37.796875 51.625 33 \r\nQ 55.609375 28.21875 55.609375 21.1875 \r\nQ 55.609375 10.40625 48.1875 4.484375 \r\nQ 40.765625 -1.421875 27.09375 -1.421875 \r\nQ 22.515625 -1.421875 17.65625 -0.515625 \r\nQ 12.796875 0.390625 7.625 2.203125 \r\nL 7.625 11.71875 \r\nQ 11.71875 9.328125 16.59375 8.109375 \r\nQ 21.484375 6.890625 26.8125 6.890625 \r\nQ 36.078125 6.890625 40.9375 10.546875 \r\nQ 45.796875 14.203125 45.796875 21.1875 \r\nQ 45.796875 27.640625 41.28125 31.265625 \r\nQ 36.765625 34.90625 28.71875 34.90625 \r\nL 20.21875 34.90625 \r\nL 20.21875 43.015625 \r\nL 29.109375 43.015625 \r\nQ 36.375 43.015625 40.234375 45.921875 \r\nQ 44.09375 48.828125 44.09375 54.296875 \r\nQ 44.09375 59.90625 40.109375 62.90625 \r\nQ 36.140625 65.921875 28.71875 65.921875 \r\nQ 24.65625 65.921875 20.015625 65.03125 \r\nQ 15.375 64.15625 9.8125 62.3125 \r\nL 9.8125 71.09375 \r\nQ 15.4375 72.65625 20.34375 73.4375 \r\nQ 25.25 74.21875 29.59375 74.21875 \r\nQ 40.828125 74.21875 47.359375 69.109375 \r\nQ 53.90625 64.015625 53.90625 55.328125 \r\nQ 53.90625 49.265625 50.4375 45.09375 \r\nQ 46.96875 40.921875 40.578125 39.3125 \r\nz\r\n\" id=\"DejaVuSans-51\"/>\r\n       </defs>\r\n       <use xlink:href=\"#DejaVuSans-51\"/>\r\n       <use x=\"63.623047\" xlink:href=\"#DejaVuSans-48\"/>\r\n      </g>\r\n     </g>\r\n    </g>\r\n    <g id=\"xtick_5\">\r\n     <g id=\"line2d_5\">\r\n      <g>\r\n       <use style=\"stroke:#000000;stroke-width:0.8;\" x=\"203.0514\" xlink:href=\"#mec1d702c7b\" y=\"226.264819\"/>\r\n      </g>\r\n     </g>\r\n     <g id=\"text_5\">\r\n      <!-- 40 -->\r\n      <g transform=\"translate(196.6889 240.863256)scale(0.1 -0.1)\">\r\n       <defs>\r\n        <path d=\"M 37.796875 64.3125 \r\nL 12.890625 25.390625 \r\nL 37.796875 25.390625 \r\nz\r\nM 35.203125 72.90625 \r\nL 47.609375 72.90625 \r\nL 47.609375 25.390625 \r\nL 58.015625 25.390625 \r\nL 58.015625 17.1875 \r\nL 47.609375 17.1875 \r\nL 47.609375 0 \r\nL 37.796875 0 \r\nL 37.796875 17.1875 \r\nL 4.890625 17.1875 \r\nL 4.890625 26.703125 \r\nz\r\n\" id=\"DejaVuSans-52\"/>\r\n       </defs>\r\n       <use xlink:href=\"#DejaVuSans-52\"/>\r\n       <use x=\"63.623047\" xlink:href=\"#DejaVuSans-48\"/>\r\n      </g>\r\n     </g>\r\n    </g>\r\n   </g>\r\n   <g id=\"matplotlib.axis_2\">\r\n    <g id=\"ytick_1\">\r\n     <g id=\"line2d_6\">\r\n      <defs>\r\n       <path d=\"M 0 0 \r\nL -3.5 0 \r\n\" id=\"m09568f9e18\" style=\"stroke:#000000;stroke-width:0.8;\"/>\r\n      </defs>\r\n      <g>\r\n       <use style=\"stroke:#000000;stroke-width:0.8;\" x=\"26.925\" xlink:href=\"#m09568f9e18\" y=\"10.999219\"/>\r\n      </g>\r\n     </g>\r\n     <g id=\"text_6\">\r\n      <!-- 0 -->\r\n      <g transform=\"translate(13.5625 14.798437)scale(0.1 -0.1)\">\r\n       <use xlink:href=\"#DejaVuSans-48\"/>\r\n      </g>\r\n     </g>\r\n    </g>\r\n    <g id=\"ytick_2\">\r\n     <g id=\"line2d_7\">\r\n      <g>\r\n       <use style=\"stroke:#000000;stroke-width:0.8;\" x=\"26.925\" xlink:href=\"#m09568f9e18\" y=\"54.487219\"/>\r\n      </g>\r\n     </g>\r\n     <g id=\"text_7\">\r\n      <!-- 10 -->\r\n      <g transform=\"translate(7.2 58.286437)scale(0.1 -0.1)\">\r\n       <use xlink:href=\"#DejaVuSans-49\"/>\r\n       <use x=\"63.623047\" xlink:href=\"#DejaVuSans-48\"/>\r\n      </g>\r\n     </g>\r\n    </g>\r\n    <g id=\"ytick_3\">\r\n     <g id=\"line2d_8\">\r\n      <g>\r\n       <use style=\"stroke:#000000;stroke-width:0.8;\" x=\"26.925\" xlink:href=\"#m09568f9e18\" y=\"97.975219\"/>\r\n      </g>\r\n     </g>\r\n     <g id=\"text_8\">\r\n      <!-- 20 -->\r\n      <g transform=\"translate(7.2 101.774437)scale(0.1 -0.1)\">\r\n       <use xlink:href=\"#DejaVuSans-50\"/>\r\n       <use x=\"63.623047\" xlink:href=\"#DejaVuSans-48\"/>\r\n      </g>\r\n     </g>\r\n    </g>\r\n    <g id=\"ytick_4\">\r\n     <g id=\"line2d_9\">\r\n      <g>\r\n       <use style=\"stroke:#000000;stroke-width:0.8;\" x=\"26.925\" xlink:href=\"#m09568f9e18\" y=\"141.463219\"/>\r\n      </g>\r\n     </g>\r\n     <g id=\"text_9\">\r\n      <!-- 30 -->\r\n      <g transform=\"translate(7.2 145.262437)scale(0.1 -0.1)\">\r\n       <use xlink:href=\"#DejaVuSans-51\"/>\r\n       <use x=\"63.623047\" xlink:href=\"#DejaVuSans-48\"/>\r\n      </g>\r\n     </g>\r\n    </g>\r\n    <g id=\"ytick_5\">\r\n     <g id=\"line2d_10\">\r\n      <g>\r\n       <use style=\"stroke:#000000;stroke-width:0.8;\" x=\"26.925\" xlink:href=\"#m09568f9e18\" y=\"184.951219\"/>\r\n      </g>\r\n     </g>\r\n     <g id=\"text_10\">\r\n      <!-- 40 -->\r\n      <g transform=\"translate(7.2 188.750437)scale(0.1 -0.1)\">\r\n       <use xlink:href=\"#DejaVuSans-52\"/>\r\n       <use x=\"63.623047\" xlink:href=\"#DejaVuSans-48\"/>\r\n      </g>\r\n     </g>\r\n    </g>\r\n   </g>\r\n   <g id=\"patch_3\">\r\n    <path d=\"M 26.925 226.264819 \r\nL 26.925 8.824819 \r\n\" style=\"fill:none;stroke:#000000;stroke-linecap:square;stroke-linejoin:miter;stroke-width:0.8;\"/>\r\n   </g>\r\n   <g id=\"patch_4\">\r\n    <path d=\"M 244.365 226.264819 \r\nL 244.365 8.824819 \r\n\" style=\"fill:none;stroke:#000000;stroke-linecap:square;stroke-linejoin:miter;stroke-width:0.8;\"/>\r\n   </g>\r\n   <g id=\"patch_5\">\r\n    <path d=\"M 26.925 226.264819 \r\nL 244.365 226.264819 \r\n\" style=\"fill:none;stroke:#000000;stroke-linecap:square;stroke-linejoin:miter;stroke-width:0.8;\"/>\r\n   </g>\r\n   <g id=\"patch_6\">\r\n    <path d=\"M 26.925 8.824819 \r\nL 244.365 8.824819 \r\n\" style=\"fill:none;stroke:#000000;stroke-linecap:square;stroke-linejoin:miter;stroke-width:0.8;\"/>\r\n   </g>\r\n  </g>\r\n </g>\r\n <defs>\r\n  <clipPath id=\"pcaf7bf074b\">\r\n   <rect height=\"217.44\" width=\"217.44\" x=\"26.925\" y=\"8.824819\"/>\r\n  </clipPath>\r\n </defs>\r\n</svg>\r\n",
      "image/png": "[encoded data removed]"
     },
     "metadata": {
      "needs_background": "light"
     }
    }
   ],
   "source": [
    "newArr = cv2.resize(img_array, (50,50))\n",
    "plt.imshow(newArr, cmap=\"gray\")\n",
    "plt.show()"
   ]
  },
  {
   "cell_type": "code",
   "execution_count": 8,
   "metadata": {},
   "outputs": [],
   "source": [
    "trainingData = []\n",
    "\n",
    "def make():\n",
    "    for category in CATEGORIES:\n",
    "        path = os.path.join(DATADIR, category)\n",
    "        classification = CATEGORIES.index(category)\n",
    "        for img in os.listdir(path):\n",
    "            img_array = cv2.imread(os.path.join(path,img), cv2.IMREAD_GRAYSCALE)\n",
    "            newArr = cv2.resize(img_array, (50,50))\n",
    "            trainingData.append([newArr,classification])\n",
    "make()"
   ]
  },
  {
   "cell_type": "code",
   "execution_count": 9,
   "metadata": {},
   "outputs": [
    {
     "output_type": "stream",
     "name": "stdout",
     "text": [
      "14034\n"
     ]
    }
   ],
   "source": [
    "print(len(trainingData))"
   ]
  },
  {
   "cell_type": "code",
   "execution_count": 21,
   "metadata": {
    "tags": []
   },
   "outputs": [
    {
     "output_type": "stream",
     "name": "stdout",
     "text": [
      "2\n2\n5\n2\n1\n3\n2\n2\n1\n3\n5\n4\n4\n5\n5\n"
     ]
    }
   ],
   "source": [
    "import random\n",
    "def fisherYates(arr, sz):\n",
    "    for i in range(sz-1, 0, -1):\n",
    "        r = random.randint(0,i+1)\n",
    "        arr[i],arr[r] = arr[r], arr[i]\n",
    "    return arr\n",
    "\n",
    "fisherYates(trainingData, len(trainingData))\n",
    "\n",
    "\n",
    "for s in trainingData[:15]:\n",
    "    print(s[1])"
   ]
  },
  {
   "cell_type": "code",
   "execution_count": 22,
   "metadata": {},
   "outputs": [],
   "source": [
    "X = []\n",
    "y = []"
   ]
  },
  {
   "cell_type": "code",
   "execution_count": 23,
   "metadata": {},
   "outputs": [],
   "source": [
    "for f,l in trainingData:\n",
    "    X.append(f)\n",
    "    y.append(l)\n",
    "\n",
    "X = np.array(X).reshape(-1, 50, 50, 1)"
   ]
  },
  {
   "cell_type": "code",
   "execution_count": 24,
   "metadata": {},
   "outputs": [],
   "source": [
    "# SAVING DATA TO REDUCE RUNTIME\n",
    "import pickle\n",
    "pickle_out = open(\"X.pickle\", \"wb\")\n",
    "pickle.dump(X, pickle_out)\n",
    "pickle_out.close()\n",
    "\n",
    "pickle_out = open(\"y.pickle\", \"wb\")\n",
    "pickle.dump(y, pickle_out)\n",
    "pickle_out.close()"
   ]
  },
  {
   "cell_type": "code",
   "execution_count": 4,
   "metadata": {},
   "outputs": [],
   "source": [
    "# IMPORTING SAVED DATA\n",
    "pickle_in = open(\"X.pickle\", \"rb\")\n",
    "X = pickle.load(pickle_in)"
   ]
  },
  {
   "cell_type": "code",
   "execution_count": 6,
   "metadata": {},
   "outputs": [
    {
     "output_type": "execute_result",
     "data": {
      "text/plain": [
       "(14034, 50, 50, 1)"
      ]
     },
     "metadata": {},
     "execution_count": 6
    }
   ],
   "source": [
    "X.shape"
   ]
  },
  {
   "cell_type": "code",
   "execution_count": null,
   "metadata": {},
   "outputs": [],
   "source": []
  }
 ]
}